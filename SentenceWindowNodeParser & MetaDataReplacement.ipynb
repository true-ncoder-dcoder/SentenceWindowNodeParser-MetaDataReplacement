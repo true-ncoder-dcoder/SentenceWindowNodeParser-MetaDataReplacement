{
 "cells": [
  {
   "cell_type": "markdown",
   "id": "4a5057ca",
   "metadata": {},
   "source": [
    "## Metadata replacement + node sentence window for a RAG pipeline\n",
    "\n",
    "This notebook demonstrates how to use Metadata replacement + node sentence window in a RAG pipeline.\n",
    "\n",
    "`SentenceWindowNodeParser` is a tool that can be used to create representations of sentences that consider the surrounding words and sentences. During retrieval, before passing the retrieved sentences to the LLM, the single sentences are replaced with a window containing the surrounding sentences using the `MetadataReplacementNodePostProcessor`. This can be useful for tasks such as machine translation or summarization, where it is essential to understand the meaning of the sentence in its entirety. This is most useful for large documents, as it helps to retrieve more fine-grained details."
   ]
  },
  {
   "cell_type": "code",
   "execution_count": 1,
   "id": "ce9a4aa9",
   "metadata": {},
   "outputs": [
    {
     "name": "stdout",
     "output_type": "stream",
     "text": [
      "Note: you may need to restart the kernel to use updated packages.\n",
      "Note: you may need to restart the kernel to use updated packages.\n",
      "Note: you may need to restart the kernel to use updated packages.\n",
      "Note: you may need to restart the kernel to use updated packages.\n"
     ]
    }
   ],
   "source": [
    "%pip install -q llama-index-embeddings-openai\n",
    "%pip install -q llama-index-embeddings-huggingface\n",
    "%pip install -q llama-index-postprocessor-cohere-rerank\n",
    "%pip install -q llama-index-llms-ollama"
   ]
  },
  {
   "cell_type": "code",
   "execution_count": 2,
   "id": "e450e080",
   "metadata": {},
   "outputs": [
    {
     "name": "stdout",
     "output_type": "stream",
     "text": [
      "Note: you may need to restart the kernel to use updated packages.\n"
     ]
    }
   ],
   "source": [
    "%pip install -q ollama"
   ]
  },
  {
   "cell_type": "code",
   "execution_count": 3,
   "id": "c5fb4134",
   "metadata": {},
   "outputs": [],
   "source": [
    "!pip install -q llama-index pypdf sentence-transformers"
   ]
  },
  {
   "cell_type": "code",
   "execution_count": 4,
   "id": "3a96b50f",
   "metadata": {},
   "outputs": [
    {
     "name": "stdout",
     "output_type": "stream",
     "text": [
      "mkdir: data: File exists\r\n"
     ]
    }
   ],
   "source": [
    "!mkdir data"
   ]
  },
  {
   "cell_type": "code",
   "execution_count": 5,
   "id": "32c859bc",
   "metadata": {},
   "outputs": [
    {
     "name": "stdout",
     "output_type": "stream",
     "text": [
      "File downloaded successfully\n"
     ]
    }
   ],
   "source": [
    "import requests\n",
    "\n",
    "url = \"https://static.pib.gov.in/WriteReadData/specificdocs/documents/2022/feb/doc20222914401.pdf\"\n",
    "file_path = \"./data/IndianTourism.pdf\"  # Specify the full file path here\n",
    "\n",
    "# Send a GET request to the specified URL\n",
    "response = requests.get(url)\n",
    "# Check if the request was successful\n",
    "if response.status_code == 200:\n",
    "    # Write the content of the response to a file\n",
    "    with open(file_path, \"wb\") as f:\n",
    "        f.write(response.content)\n",
    "    print(\"File downloaded successfully\")\n",
    "else:\n",
    "    print(\"Failed to download the file, status code:\", response.status_code)"
   ]
  },
  {
   "cell_type": "code",
   "execution_count": 6,
   "id": "f9896a71",
   "metadata": {},
   "outputs": [
    {
     "name": "stderr",
     "output_type": "stream",
     "text": [
      "/Users/samiranbanerjee/Library/CloudStorage/GoogleDrive-samiran.banerjee91@gmail.com/My Drive/Local Projects/RAG_LLAMAINDEX/llamaindex_venv/lib/python3.11/site-packages/tqdm/auto.py:21: TqdmWarning: IProgress not found. Please update jupyter and ipywidgets. See https://ipywidgets.readthedocs.io/en/stable/user_install.html\n",
      "  from .autonotebook import tqdm as notebook_tqdm\n"
     ]
    }
   ],
   "source": [
    "from llama_index.core import set_global_service_context\n",
    "from llama_index.llms.ollama import Ollama\n",
    "from llama_index.embeddings.openai import OpenAIEmbedding\n",
    "from llama_index.embeddings.huggingface import HuggingFaceEmbedding\n",
    "from llama_index.core.node_parser import SentenceWindowNodeParser, SimpleNodeParser\n",
    "\n",
    "# create the sentence window node parser\n",
    "node_parser = SentenceWindowNodeParser.from_defaults(\n",
    "    window_size=3,\n",
    "    window_metadata_key=\"window\",\n",
    "    original_text_metadata_key=\"original_text\",\n",
    ")\n",
    "\n",
    "llm= Ollama(model='gemma:2b')"
   ]
  },
  {
   "cell_type": "code",
   "execution_count": 7,
   "id": "cc70ddb7",
   "metadata": {},
   "outputs": [
    {
     "name": "stdout",
     "output_type": "stream",
     "text": [
      "The theory of relativity was developed by Albert Einstein in the early 20th century.\n"
     ]
    }
   ],
   "source": [
    "resp = llm.complete(\"Who invented the theory of relativity\")\n",
    "print(resp)"
   ]
  },
  {
   "cell_type": "code",
   "execution_count": 8,
   "id": "39517741",
   "metadata": {},
   "outputs": [],
   "source": [
    "embed_model = HuggingFaceEmbedding(\n",
    "    model_name=\"sentence-transformers/all-mpnet-base-v2\", max_length=512)"
   ]
  },
  {
   "cell_type": "code",
   "execution_count": 9,
   "id": "af0077fd",
   "metadata": {},
   "outputs": [],
   "source": [
    "from llama_index.core import VectorStoreIndex, SimpleDirectoryReader\n",
    "\n",
    "document_list = SimpleDirectoryReader(\"data\").load_data()\n",
    "nodes = node_parser.get_nodes_from_documents(document_list)\n",
    "index = VectorStoreIndex(nodes, embed_model=embed_model)"
   ]
  },
  {
   "cell_type": "code",
   "execution_count": 22,
   "id": "7be14864",
   "metadata": {},
   "outputs": [],
   "source": [
    "from llama_index.core.postprocessor import MetadataReplacementPostProcessor\n",
    "\n",
    "metadata_query_engine = index.as_query_engine(\n",
    "    similarity_top_k=8,\n",
    "    llm=llm,\n",
    "    # the target key defaults to `window` to match the node_parser's default\n",
    "    node_postprocessors=[\n",
    "        MetadataReplacementPostProcessor(target_metadata_key=\"window\"),\n",
    "    ],\n",
    ")"
   ]
  },
  {
   "cell_type": "code",
   "execution_count": 23,
   "id": "fc97638b",
   "metadata": {},
   "outputs": [
    {
     "name": "stdout",
     "output_type": "stream",
     "text": [
      "Sure, here is the answer to the query:\n",
      "\n",
      "The Loan Guarantee Scheme for COVID affected Tourism Service Sector is a government initiative designed to support the tourism industry and alleviate the financial burden on tourism service providers during the COVID-19 pandemic. The scheme provides financial assistance in the form of capital grants to eligible tourism service providers, such as hotels, restaurants, and transportation companies.\n",
      "\n",
      "The main objectives of the scheme are to:\n",
      "\n",
      "- Provide immediate relief to tourism service providers affected by COVID-19\n",
      "\n",
      "- Support the recovery and growth of the tourism industry\n",
      "\n",
      "- Stabilize employment and livelihoods in the tourism sector\n",
      "\n",
      "- Boost economic activity and revenue generation\n",
      "\n",
      "- Attract foreign investments and promote India as a safe and attractive tourist destination.\n"
     ]
    }
   ],
   "source": [
    "query = \"Explain the  Loan Guarantee Scheme for COVID affected Tourism Service Sector\"\n",
    "response = metadata_query_engine.query(query)\n",
    "print(str(response))"
   ]
  },
  {
   "cell_type": "code",
   "execution_count": 24,
   "id": "f96a35e0",
   "metadata": {},
   "outputs": [
    {
     "name": "stdout",
     "output_type": "stream",
     "text": [
      "According to World Travel and Tourism Council, India ranked 10th among 185 countries in terms of travel & tourism's total contribution to GDP in 2019.\n"
     ]
    }
   ],
   "source": [
    "query = \"According to World Travel and Tourism Council what is India's rank\"\n",
    "response = metadata_query_engine.query(query)\n",
    "print(str(response))"
   ]
  },
  {
   "cell_type": "code",
   "execution_count": null,
   "id": "dd26478a",
   "metadata": {},
   "outputs": [],
   "source": []
  }
 ],
 "metadata": {
  "kernelspec": {
   "display_name": "llamaindex_venv",
   "language": "python",
   "name": "llamaindex_venv"
  },
  "language_info": {
   "codemirror_mode": {
    "name": "ipython",
    "version": 3
   },
   "file_extension": ".py",
   "mimetype": "text/x-python",
   "name": "python",
   "nbconvert_exporter": "python",
   "pygments_lexer": "ipython3",
   "version": "3.11.5"
  }
 },
 "nbformat": 4,
 "nbformat_minor": 5
}
